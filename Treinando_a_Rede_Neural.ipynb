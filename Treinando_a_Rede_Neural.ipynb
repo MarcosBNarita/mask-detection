{
  "nbformat": 4,
  "nbformat_minor": 0,
  "metadata": {
    "kernelspec": {
      "display_name": "Python 3",
      "language": "python",
      "name": "python3"
    },
    "language_info": {
      "codemirror_mode": {
        "name": "ipython",
        "version": 3
      },
      "file_extension": ".py",
      "mimetype": "text/x-python",
      "name": "python",
      "nbconvert_exporter": "python",
      "pygments_lexer": "ipython3",
      "version": "3.7.4"
    },
    "colab": {
      "name": "Treinando a Rede Neural.ipynb",
      "provenance": [],
      "collapsed_sections": [],
      "include_colab_link": true
    }
  },
  "cells": [
    {
      "cell_type": "markdown",
      "metadata": {
        "id": "view-in-github",
        "colab_type": "text"
      },
      "source": [
        "<a href=\"https://colab.research.google.com/github/MarcosBNarita/mask-detection/blob/master/Treinando_a_Rede_Neural.ipynb\" target=\"_parent\"><img src=\"https://colab.research.google.com/assets/colab-badge.svg\" alt=\"Open In Colab\"/></a>"
      ]
    },
    {
      "cell_type": "code",
      "metadata": {
        "id": "x2fTcj_Pv-PU",
        "colab_type": "code",
        "colab": {}
      },
      "source": [
        "import numpy as np\n",
        "\n",
        "\n",
        "data=np.load('/content/drive/My Drive/Face Mask Detection/data.npy')\n",
        "target=np.load('/content/drive/My Drive/Face Mask Detection/target.npy')\n",
        "\n",
        "#importando os dados gerados no código anterior"
      ],
      "execution_count": null,
      "outputs": []
    },
    {
      "cell_type": "code",
      "metadata": {
        "id": "ni58xPKxYt_t",
        "colab_type": "code",
        "colab": {
          "base_uri": "https://localhost:8080/",
          "height": 118
        },
        "outputId": "08a9e1be-85bf-486d-86f6-65ca898c0ac7"
      },
      "source": [
        "from google.colab import drive\n",
        "drive.mount('/content/drive')"
      ],
      "execution_count": null,
      "outputs": [
        {
          "output_type": "stream",
          "text": [
            "Go to this URL in a browser: https://accounts.google.com/o/oauth2/auth?client_id=947318989803-6bn6qk8qdgf4n4g3pfee6491hc0brc4i.apps.googleusercontent.com&redirect_uri=urn%3aietf%3awg%3aoauth%3a2.0%3aoob&scope=email%20https%3a%2f%2fwww.googleapis.com%2fauth%2fdocs.test%20https%3a%2f%2fwww.googleapis.com%2fauth%2fdrive%20https%3a%2f%2fwww.googleapis.com%2fauth%2fdrive.photos.readonly%20https%3a%2f%2fwww.googleapis.com%2fauth%2fpeopleapi.readonly&response_type=code\n",
            "\n",
            "Enter your authorization code:\n",
            "··········\n",
            "Mounted at /content/drive\n"
          ],
          "name": "stdout"
        }
      ]
    },
    {
      "cell_type": "code",
      "metadata": {
        "id": "e3uYY1r2v-PZ",
        "colab_type": "code",
        "colab": {}
      },
      "source": [
        "from keras.models import Sequential\n",
        "from keras.layers import Dense,Activation,Flatten,Dropout\n",
        "from keras.layers import Conv2D,MaxPooling2D\n",
        "from keras.callbacks import ModelCheckpoint\n",
        "\n",
        "model=Sequential()\n",
        "\n",
        "model.add(Conv2D(200,(3,3),input_shape=data.shape[1:]))\n",
        "model.add(Activation('relu'))\n",
        "model.add(MaxPooling2D(pool_size=(2,2)))\n",
        "#Primeira camada de convolução 2D da rede neural com 200 neurônios\n",
        "\n",
        "model.add(Conv2D(100,(3,3)))\n",
        "model.add(Activation('relu'))\n",
        "model.add(MaxPooling2D(pool_size=(2,2)))\n",
        "#Segunda camada de convolução 2D da rede neural com 100 neurônios\n",
        "\n",
        "model.add(Flatten())\n",
        "model.add(Dropout(0.5))\n",
        "#Achatando a saída da segunda camada\n",
        "model.add(Dense(50,activation='relu'))\n",
        "#Camada densa com 50 neurônios\n",
        "model.add(Dense(2,activation='softmax'))\n",
        "#Camada de saída com as duas categorias\n",
        "\n",
        "model.compile(loss='categorical_crossentropy',optimizer='adam',metrics=['accuracy'])"
      ],
      "execution_count": null,
      "outputs": []
    },
    {
      "cell_type": "code",
      "metadata": {
        "id": "SVK6o96iv-Pc",
        "colab_type": "code",
        "colab": {}
      },
      "source": [
        "from sklearn.model_selection import train_test_split\n",
        "\n",
        "train_data,test_data,train_target,test_target=train_test_split(data,target,test_size=0.1)"
      ],
      "execution_count": null,
      "outputs": []
    },
    {
      "cell_type": "code",
      "metadata": {
        "id": "JeC58VZVv-Pk",
        "colab_type": "code",
        "colab": {
          "base_uri": "https://localhost:8080/",
          "height": 947
        },
        "outputId": "0db38992-9272-48f3-e923-42a947d25fc3"
      },
      "source": [
        "checkpoint = ModelCheckpoint('model-{epoch:03d}.model',monitor='val_loss',verbose=0,save_best_only=True,mode='auto')\n",
        "history=model.fit(train_data,train_target,epochs=20,callbacks=[checkpoint],validation_split=0.2)"
      ],
      "execution_count": null,
      "outputs": [
        {
          "output_type": "stream",
          "text": [
            "Epoch 1/20\n",
            "31/31 [==============================] - ETA: 0s - loss: 0.7107 - accuracy: 0.5212WARNING:tensorflow:From /usr/local/lib/python3.6/dist-packages/tensorflow/python/training/tracking/tracking.py:111: Model.state_updates (from tensorflow.python.keras.engine.training) is deprecated and will be removed in a future version.\n",
            "Instructions for updating:\n",
            "This property should not be used in TensorFlow 2.0, as updates are applied automatically.\n",
            "WARNING:tensorflow:From /usr/local/lib/python3.6/dist-packages/tensorflow/python/training/tracking/tracking.py:111: Layer.updates (from tensorflow.python.keras.engine.base_layer) is deprecated and will be removed in a future version.\n",
            "Instructions for updating:\n",
            "This property should not be used in TensorFlow 2.0, as updates are applied automatically.\n",
            "INFO:tensorflow:Assets written to: model-001.model/assets\n",
            "31/31 [==============================] - 75s 2s/step - loss: 0.7107 - accuracy: 0.5212 - val_loss: 0.6907 - val_accuracy: 0.4839\n",
            "Epoch 2/20\n",
            "31/31 [==============================] - ETA: 0s - loss: 0.6443 - accuracy: 0.6162INFO:tensorflow:Assets written to: model-002.model/assets\n",
            "31/31 [==============================] - 76s 2s/step - loss: 0.6443 - accuracy: 0.6162 - val_loss: 0.6216 - val_accuracy: 0.6290\n",
            "Epoch 3/20\n",
            "31/31 [==============================] - ETA: 0s - loss: 0.5253 - accuracy: 0.7303INFO:tensorflow:Assets written to: model-003.model/assets\n",
            "31/31 [==============================] - 75s 2s/step - loss: 0.5253 - accuracy: 0.7303 - val_loss: 0.4236 - val_accuracy: 0.8105\n",
            "Epoch 4/20\n",
            "31/31 [==============================] - ETA: 0s - loss: 0.3532 - accuracy: 0.8586INFO:tensorflow:Assets written to: model-004.model/assets\n",
            "31/31 [==============================] - 74s 2s/step - loss: 0.3532 - accuracy: 0.8586 - val_loss: 0.2973 - val_accuracy: 0.8952\n",
            "Epoch 5/20\n",
            "31/31 [==============================] - 74s 2s/step - loss: 0.2349 - accuracy: 0.9172 - val_loss: 0.3463 - val_accuracy: 0.8347\n",
            "Epoch 6/20\n",
            "31/31 [==============================] - ETA: 0s - loss: 0.1776 - accuracy: 0.9364INFO:tensorflow:Assets written to: model-006.model/assets\n",
            "31/31 [==============================] - 76s 2s/step - loss: 0.1776 - accuracy: 0.9364 - val_loss: 0.2104 - val_accuracy: 0.9234\n",
            "Epoch 7/20\n",
            "31/31 [==============================] - ETA: 0s - loss: 0.1608 - accuracy: 0.9364INFO:tensorflow:Assets written to: model-007.model/assets\n",
            "31/31 [==============================] - 79s 3s/step - loss: 0.1608 - accuracy: 0.9364 - val_loss: 0.1526 - val_accuracy: 0.9355\n",
            "Epoch 8/20\n",
            "31/31 [==============================] - 73s 2s/step - loss: 0.1036 - accuracy: 0.9687 - val_loss: 0.1805 - val_accuracy: 0.9274\n",
            "Epoch 9/20\n",
            "31/31 [==============================] - ETA: 0s - loss: 0.1216 - accuracy: 0.9535INFO:tensorflow:Assets written to: model-009.model/assets\n",
            "31/31 [==============================] - 75s 2s/step - loss: 0.1216 - accuracy: 0.9535 - val_loss: 0.1405 - val_accuracy: 0.9435\n",
            "Epoch 10/20\n",
            "31/31 [==============================] - ETA: 0s - loss: 0.1086 - accuracy: 0.9687INFO:tensorflow:Assets written to: model-010.model/assets\n",
            "31/31 [==============================] - 75s 2s/step - loss: 0.1086 - accuracy: 0.9687 - val_loss: 0.1112 - val_accuracy: 0.9476\n",
            "Epoch 11/20\n",
            "31/31 [==============================] - 73s 2s/step - loss: 0.0676 - accuracy: 0.9798 - val_loss: 0.1206 - val_accuracy: 0.9435\n",
            "Epoch 12/20\n",
            "31/31 [==============================] - ETA: 0s - loss: 0.0586 - accuracy: 0.9828INFO:tensorflow:Assets written to: model-012.model/assets\n",
            "31/31 [==============================] - 75s 2s/step - loss: 0.0586 - accuracy: 0.9828 - val_loss: 0.1054 - val_accuracy: 0.9597\n",
            "Epoch 13/20\n",
            "31/31 [==============================] - ETA: 0s - loss: 0.0601 - accuracy: 0.9778INFO:tensorflow:Assets written to: model-013.model/assets\n",
            "31/31 [==============================] - 75s 2s/step - loss: 0.0601 - accuracy: 0.9778 - val_loss: 0.0974 - val_accuracy: 0.9556\n",
            "Epoch 14/20\n",
            "31/31 [==============================] - 74s 2s/step - loss: 0.0321 - accuracy: 0.9909 - val_loss: 0.1297 - val_accuracy: 0.9476\n",
            "Epoch 15/20\n",
            "31/31 [==============================] - 78s 3s/step - loss: 0.0379 - accuracy: 0.9828 - val_loss: 0.1497 - val_accuracy: 0.9516\n",
            "Epoch 16/20\n",
            "31/31 [==============================] - 74s 2s/step - loss: 0.0302 - accuracy: 0.9889 - val_loss: 0.1782 - val_accuracy: 0.9476\n",
            "Epoch 17/20\n",
            "31/31 [==============================] - 75s 2s/step - loss: 0.0216 - accuracy: 0.9949 - val_loss: 0.1491 - val_accuracy: 0.9476\n",
            "Epoch 18/20\n",
            "31/31 [==============================] - 75s 2s/step - loss: 0.0196 - accuracy: 0.9919 - val_loss: 0.1240 - val_accuracy: 0.9556\n",
            "Epoch 19/20\n",
            "31/31 [==============================] - 75s 2s/step - loss: 0.0235 - accuracy: 0.9899 - val_loss: 0.1013 - val_accuracy: 0.9677\n",
            "Epoch 20/20\n",
            "31/31 [==============================] - 74s 2s/step - loss: 0.0158 - accuracy: 0.9960 - val_loss: 0.1296 - val_accuracy: 0.9516\n"
          ],
          "name": "stdout"
        }
      ]
    },
    {
      "cell_type": "code",
      "metadata": {
        "id": "8F7wFJTvv-Pq",
        "colab_type": "code",
        "colab": {
          "base_uri": "https://localhost:8080/",
          "height": 278
        },
        "outputId": "732b6254-8a85-4e2b-aa0e-c0e0bcd27d7d"
      },
      "source": [
        "from matplotlib import pyplot as plt\n",
        "\n",
        "plt.plot(history.history['loss'],'r',label='training loss')\n",
        "plt.plot(history.history['val_loss'],label='validation loss')\n",
        "plt.xlabel('# epochs')\n",
        "plt.ylabel('loss')\n",
        "plt.legend()\n",
        "plt.show()"
      ],
      "execution_count": null,
      "outputs": [
        {
          "output_type": "display_data",
          "data": {
            "image/png": "[encoded data removed]",
            "text/plain": [
              "<Figure size 432x288 with 1 Axes>"
            ]
          },
          "metadata": {
            "tags": [],
            "needs_background": "light"
          }
        }
      ]
    },
    {
      "cell_type": "code",
      "metadata": {
        "id": "JVtzMfB0v-Pu",
        "colab_type": "code",
        "colab": {
          "base_uri": "https://localhost:8080/",
          "height": 278
        },
        "outputId": "13b5583b-3bb4-40fb-8bf6-d4220f72282e"
      },
      "source": [
        "plt.plot(history.history['accuracy'],'r',label='training accuracy')\n",
        "plt.plot(history.history['val_accuracy'],label='validation accuracy')\n",
        "plt.xlabel('# epochs')\n",
        "plt.ylabel('loss')\n",
        "plt.legend()\n",
        "plt.show()"
      ],
      "execution_count": null,
      "outputs": [
        {
          "output_type": "display_data",
          "data": {
            "image/png": "[encoded data removed]",
            "text/plain": [
              "<Figure size 432x288 with 1 Axes>"
            ]
          },
          "metadata": {
            "tags": [],
            "needs_background": "light"
          }
        }
      ]
    },
    {
      "cell_type": "code",
      "metadata": {
        "id": "CCUGtyiGv-P0",
        "colab_type": "code",
        "colab": {}
      },
      "source": [
        "model.save('my_model.h5')"
      ],
      "execution_count": null,
      "outputs": []
    }
  ]
}